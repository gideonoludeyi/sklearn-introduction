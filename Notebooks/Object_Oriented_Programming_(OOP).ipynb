{
  "nbformat": 4,
  "nbformat_minor": 0,
  "metadata": {
    "colab": {
      "name": "Object-Oriented Programming (OOP).ipynb",
      "provenance": [],
      "collapsed_sections": [],
      "include_colab_link": true
    },
    "kernelspec": {
      "name": "python3",
      "display_name": "Python 3"
    },
    "language_info": {
      "name": "python"
    }
  },
  "cells": [
    {
      "cell_type": "markdown",
      "metadata": {
        "id": "view-in-github",
        "colab_type": "text"
      },
      "source": [
        "<a href=\"https://colab.research.google.com/github/gideonoludeyi/sklearn-introduction/blob/main/Notebooks/Object_Oriented_Programming_(OOP).ipynb\" target=\"_parent\"><img src=\"https://colab.research.google.com/assets/colab-badge.svg\" alt=\"Open In Colab\"/></a>"
      ]
    },
    {
      "cell_type": "markdown",
      "metadata": {
        "id": "K8Cp6OSzp4uV"
      },
      "source": [
        "# Introduction to Scikit-Learn ([`sklearn`](https://scikit-learn.org/stable/getting_started.html))\n",
        "1. **Object-Oriented Programming (OOP)**\n",
        "2. Inheritance (OOP)\n",
        "3. Estimators\n",
        "4. Transformers\n",
        "5. BaseEstimator & TransformerMixin API\n",
        "6. Common Scikit-learn modules"
      ]
    },
    {
      "cell_type": "markdown",
      "metadata": {
        "id": "d8xzcdjyEu6h"
      },
      "source": [
        "## Object-Oriented Programming (OOP)"
      ]
    },
    {
      "cell_type": "markdown",
      "metadata": {
        "id": "QUF8-YDEpvud"
      },
      "source": [
        "**What is Object-Oriented Programming?**  \n",
        "A style of programming that emphasizes the use of _objects_ to represent and process data in a program."
      ]
    },
    {
      "cell_type": "markdown",
      "metadata": {
        "id": "GiGHRtCDz9GY"
      },
      "source": [
        "**Basic Concepts**\n",
        "- Object (Instance)\n",
        "- Class\n",
        "- Property (Attribute, Field, Feature)\n",
        "- Method"
      ]
    },
    {
      "cell_type": "markdown",
      "metadata": {
        "id": "316K4o9jp2q4"
      },
      "source": [
        "We will use an example to motivate the use of the **OOP** paradigm.\n",
        "\n",
        "**Example:**\n",
        "\n",
        "Suppose we are required to write a program to simulate the interactions between _users_ on a _Social Media_ platform.\n",
        "\n",
        "The basic requirements are:\n",
        "1. Representing each _user_ data (`username`, `birthdate`, `friends`, `posts`).\n",
        "2. Adding a new `friend`\n",
        "3. Publish a `post`\n",
        "4. Like a `post`\n"
      ]
    },
    {
      "cell_type": "markdown",
      "metadata": {
        "id": "28u0qGwjrKIJ"
      },
      "source": [
        "### Basic Solution"
      ]
    },
    {
      "cell_type": "markdown",
      "metadata": {
        "id": "b18S1psBuDXy"
      },
      "source": [
        "A basic solution would be to store each _user's_ data as a `dict`, and use _functions_ to manipulate the data.\n",
        "\n",
        "**Example:**\n",
        "```python\n",
        ">>> {\n",
        "...     'username': 'john_doe',\n",
        "...     'joined_date': 'YYYY-MM-DD',\n",
        "...     'friends': [...], # list of usernames\n",
        "...     'posts': [\n",
        "...         {\n",
        "...             'title': 'Post 1',\n",
        "...             'text': 'A new post',\n",
        "...             'likes': [...] # list of usernames\n",
        "...         },\n",
        "...         ... # other posts \n",
        "...     ],\n",
        "... }\n",
        "```"
      ]
    },
    {
      "cell_type": "markdown",
      "metadata": {
        "id": "wxHIEMGezzXi"
      },
      "source": [
        "**Requirement 1:** _Represent user data_"
      ]
    },
    {
      "cell_type": "code",
      "metadata": {
        "id": "dC1sy3nwsL43"
      },
      "source": [
        "def create_user(username, joined_date):\n",
        "    user = {\n",
        "        'username': username,\n",
        "        'joined_date': joined_date,\n",
        "        'friends': [], # no friends for new user\n",
        "        'posts': [], # no posts for new user\n",
        "    }\n",
        "\n",
        "    return user"
      ],
      "execution_count": 1,
      "outputs": []
    },
    {
      "cell_type": "code",
      "metadata": {
        "colab": {
          "base_uri": "https://localhost:8080/"
        },
        "id": "LX8rOCxYyP0V",
        "outputId": "9fe364c4-96f5-463a-8fc8-fd25a603ca3b"
      },
      "source": [
        "johndoe = create_user('johndoe', '2015-04-20') # creating a new user dictionary\n",
        "johndoe"
      ],
      "execution_count": 2,
      "outputs": [
        {
          "output_type": "execute_result",
          "data": {
            "text/plain": [
              "{'friends': [],\n",
              " 'joined_date': '2015-04-20',\n",
              " 'posts': [],\n",
              " 'username': 'johndoe'}"
            ]
          },
          "metadata": {
            "tags": []
          },
          "execution_count": 2
        }
      ]
    },
    {
      "cell_type": "code",
      "metadata": {
        "colab": {
          "base_uri": "https://localhost:8080/"
        },
        "id": "LKU7vzJsyq-z",
        "outputId": "73260c2b-e14e-4e23-d073-e972a641d6c8"
      },
      "source": [
        "mikesmith = create_user('mikesmith', '2020-10-31') # creating a new user dictionary\n",
        "mikesmith"
      ],
      "execution_count": 3,
      "outputs": [
        {
          "output_type": "execute_result",
          "data": {
            "text/plain": [
              "{'friends': [],\n",
              " 'joined_date': '2020-10-31',\n",
              " 'posts': [],\n",
              " 'username': 'mikesmith'}"
            ]
          },
          "metadata": {
            "tags": []
          },
          "execution_count": 3
        }
      ]
    },
    {
      "cell_type": "markdown",
      "metadata": {
        "id": "A-ewIHlYz4w8"
      },
      "source": [
        "**Requirement 2:** _Add friend_"
      ]
    },
    {
      "cell_type": "code",
      "metadata": {
        "id": "LPZTPb2Nu5x5"
      },
      "source": [
        "def add_friend(user1, user2):\n",
        "    username1 = user1['username']\n",
        "    username2 = user2['username']\n",
        "\n",
        "    user1['friends'].append(username2)\n",
        "    user2['friends'].append(username1)"
      ],
      "execution_count": 4,
      "outputs": []
    },
    {
      "cell_type": "code",
      "metadata": {
        "id": "8JkgqmtnzN3Q"
      },
      "source": [
        "add_friend(johndoe, mikesmith) # adding friends"
      ],
      "execution_count": 5,
      "outputs": []
    },
    {
      "cell_type": "code",
      "metadata": {
        "colab": {
          "base_uri": "https://localhost:8080/"
        },
        "id": "6LBMJwKlzWO1",
        "outputId": "65976c96-4e02-4fc3-c141-3007a5cc7636"
      },
      "source": [
        "johndoe['friends']"
      ],
      "execution_count": 6,
      "outputs": [
        {
          "output_type": "execute_result",
          "data": {
            "text/plain": [
              "['mikesmith']"
            ]
          },
          "metadata": {
            "tags": []
          },
          "execution_count": 6
        }
      ]
    },
    {
      "cell_type": "code",
      "metadata": {
        "colab": {
          "base_uri": "https://localhost:8080/"
        },
        "id": "jI_eozZezg0o",
        "outputId": "78716932-6b85-41dd-82c2-ad7dbe9e493c"
      },
      "source": [
        "mikesmith['friends']"
      ],
      "execution_count": 7,
      "outputs": [
        {
          "output_type": "execute_result",
          "data": {
            "text/plain": [
              "['johndoe']"
            ]
          },
          "metadata": {
            "tags": []
          },
          "execution_count": 7
        }
      ]
    },
    {
      "cell_type": "markdown",
      "metadata": {
        "id": "gt17-IySzrvv"
      },
      "source": [
        "**Requirement 3:** _Publish post_"
      ]
    },
    {
      "cell_type": "code",
      "metadata": {
        "id": "qkkZatepv-qO"
      },
      "source": [
        "def publish_post(user, post):\n",
        "    user['posts'].append(post)"
      ],
      "execution_count": 8,
      "outputs": []
    },
    {
      "cell_type": "code",
      "metadata": {
        "id": "kQh_lY_Vz6q1"
      },
      "source": [
        "post = {\n",
        "    'title': 'Post 1',\n",
        "    'text': 'A new post',\n",
        "    'likes': []\n",
        "}\n",
        "\n",
        "publish_post(johndoe, post) # publish a new post"
      ],
      "execution_count": 9,
      "outputs": []
    },
    {
      "cell_type": "code",
      "metadata": {
        "colab": {
          "base_uri": "https://localhost:8080/"
        },
        "id": "sdeDXsJp0IU_",
        "outputId": "fc989485-7c48-45bf-9efe-84748f5ab9dc"
      },
      "source": [
        "johndoe['posts']"
      ],
      "execution_count": 10,
      "outputs": [
        {
          "output_type": "execute_result",
          "data": {
            "text/plain": [
              "[{'likes': [], 'text': 'A new post', 'title': 'Post 1'}]"
            ]
          },
          "metadata": {
            "tags": []
          },
          "execution_count": 10
        }
      ]
    },
    {
      "cell_type": "markdown",
      "metadata": {
        "id": "_fnoXhCZ0JCL"
      },
      "source": [
        "**Requirement 4:** _Like post_"
      ]
    },
    {
      "cell_type": "code",
      "metadata": {
        "id": "V3cSH3dPv-82"
      },
      "source": [
        "def like_post(user, post):\n",
        "    username = user['username']\n",
        "\n",
        "    post['likes'].append(username)"
      ],
      "execution_count": 11,
      "outputs": []
    },
    {
      "cell_type": "code",
      "metadata": {
        "id": "LrxSmfjM0hXI"
      },
      "source": [
        "like_post(mikesmith, post) # liking a post"
      ],
      "execution_count": 12,
      "outputs": []
    },
    {
      "cell_type": "code",
      "metadata": {
        "colab": {
          "base_uri": "https://localhost:8080/"
        },
        "id": "JNjbbl6b0q-q",
        "outputId": "27446bf4-0480-49a5-c9b8-8677f9655795"
      },
      "source": [
        "johndoe['posts']"
      ],
      "execution_count": 13,
      "outputs": [
        {
          "output_type": "execute_result",
          "data": {
            "text/plain": [
              "[{'likes': ['mikesmith'], 'text': 'A new post', 'title': 'Post 1'}]"
            ]
          },
          "metadata": {
            "tags": []
          },
          "execution_count": 13
        }
      ]
    },
    {
      "cell_type": "markdown",
      "metadata": {
        "id": "dnUWJiEA6RTk"
      },
      "source": [
        "### OOP Solution"
      ]
    },
    {
      "cell_type": "markdown",
      "metadata": {
        "id": "tu_-6D9Q1rAn"
      },
      "source": [
        "The _Basic Solution_ already solves the _requirements_ for the program.\n",
        "\n",
        "In fact, what we have done is _conceptually_ inline with the _OOP_ paradigm.\n",
        "\n",
        "\\\n",
        "**Recall:** _Object-Oriented Programming_ is a style of programming that emphasizes the use of `objects` to represent and process data in a program."
      ]
    },
    {
      "cell_type": "markdown",
      "metadata": {
        "id": "vVM3NwTb4aZ-"
      },
      "source": [
        "**What is an Object?**\n",
        "In the simplest terms, an _object_ is a `data type` or `data structure`.\n",
        "\n",
        "Therefore, `string, integer, boolean, list` are all _objects_.\n",
        "\n",
        "Even the `dict` we've been using the represent the _user_ data is an _object_.\n",
        "\n",
        "There are two type of features that _objects_ possess:\n",
        "- **Properties** - values that an _object_ owns. They are variables that are accessible only through the _object_.\n",
        "- **Methods** - functions that are bound to, and interact specifically with an _object_.\n",
        "\n",
        "Conceptually, the _key-value_ pairs of the _user_ `dict` are an _object's properties_. And the _functions_ we defined to interact with the _user_ `dict` are the _methods_ associated with that specific type of _data structure_.\n",
        "\n",
        "However, in order to create an _object_, we need to define its structure. This is accomplished through a _class_ definition."
      ]
    },
    {
      "cell_type": "markdown",
      "metadata": {
        "id": "TECwnHAx5Up3"
      },
      "source": [
        "**What is a Class?**:\n",
        "\n",
        "A _class_ is like the _blueprint_ of a house that defines its structure, while an _object_ is like the concrete building constructed from a single blueprint. Just as multiple houses can be constructed from a blueprint, similarly, multiple _objects_ can be constructed from a _class_.\n",
        "\n",
        "Specifically, a _class_ defines two types of features that its _objects_ possess: \\\n",
        "**Properties** and **Methods**"
      ]
    },
    {
      "cell_type": "markdown",
      "metadata": {
        "id": "xfPrbSqR20IF"
      },
      "source": [
        "To define a _class_, we use a special keyword called `class`:\n",
        "```python\n",
        ">>> class MyClass:\n",
        "...     pass\n",
        "```\n",
        "\n",
        "And we create an _object_ (aka _instance_) of the _class_ by calling it like a _function_. This is called _instantiation_.\n",
        "```python\n",
        ">>> my_object = MyClass()\n",
        "```\n",
        "\n",
        "**Note:** \\\n",
        "`pass` is a special keyword in python for avoiding a common error that occurs when there is no code within an indentation block.\n",
        "\n",
        "> SyntaxError: unexpected EOF while parsing`"
      ]
    },
    {
      "cell_type": "code",
      "metadata": {
        "id": "HlJN5mua6MvM"
      },
      "source": [
        "class User:\n",
        "    pass"
      ],
      "execution_count": 14,
      "outputs": []
    },
    {
      "cell_type": "code",
      "metadata": {
        "id": "zmXgAvHY-1AB"
      },
      "source": [
        "user = User()"
      ],
      "execution_count": 15,
      "outputs": []
    },
    {
      "cell_type": "markdown",
      "metadata": {
        "id": "5ugJzAK8_NFK"
      },
      "source": [
        "Right now the `user` _object_ does not have any _properties defined_.\n",
        "\n",
        "We can assign _properties_ to an _object_ using the `<object>.<property>` syntax to access/mutate its _properties_:"
      ]
    },
    {
      "cell_type": "code",
      "metadata": {
        "id": "0GS53gbr_kiX"
      },
      "source": [
        "user.username = 'johndoe'"
      ],
      "execution_count": 16,
      "outputs": []
    },
    {
      "cell_type": "code",
      "metadata": {
        "colab": {
          "base_uri": "https://localhost:8080/",
          "height": 0
        },
        "id": "-oT-PrDP_oCB",
        "outputId": "b63672e2-4c05-40a2-8be5-7b69b8f18d65"
      },
      "source": [
        "user.username"
      ],
      "execution_count": 17,
      "outputs": [
        {
          "output_type": "execute_result",
          "data": {
            "application/vnd.google.colaboratory.intrinsic+json": {
              "type": "string"
            },
            "text/plain": [
              "'johndoe'"
            ]
          },
          "metadata": {
            "tags": []
          },
          "execution_count": 17
        }
      ]
    },
    {
      "cell_type": "markdown",
      "metadata": {
        "id": "-yesq7fL_ogS"
      },
      "source": [
        "**Note:** Attempting to access a property that does not exist on an _object_ will result in an error.\n",
        "```python\n",
        ">>> user.name\n",
        "AttributeError: 'User' object has no attribute 'name'\n",
        "```"
      ]
    },
    {
      "cell_type": "markdown",
      "metadata": {
        "id": "IeFNBlWqBSsH"
      },
      "source": [
        "We can even combine the process _instantiating_ the _object_ and _initializing_ its _properties_ to a single _function_ `create_user_object`.\n",
        "\n",
        "This ensures that every `User` _instance_ we create has the _properties_ we expect as long as we use the `create_user_object` _function_.\n"
      ]
    },
    {
      "cell_type": "code",
      "metadata": {
        "id": "bXGqPrJ-AK99"
      },
      "source": [
        "def create_user_object(username, joined_date):\n",
        "    user = User()\n",
        "\n",
        "    user.username = username\n",
        "    user.joined_date = joined_date\n",
        "    user.friends = [] # no friends for new user\n",
        "    user.posts = [] # no post for new user\n",
        "\n",
        "    return user"
      ],
      "execution_count": 18,
      "outputs": []
    },
    {
      "cell_type": "code",
      "metadata": {
        "colab": {
          "base_uri": "https://localhost:8080/"
        },
        "id": "Qj8KWPPEAVfE",
        "outputId": "c91045b0-cfe0-4fc3-8150-c36f09caeedf"
      },
      "source": [
        "johndoe = create_user_object('johndoe', '2018-04-20')\n",
        "johndoe"
      ],
      "execution_count": 19,
      "outputs": [
        {
          "output_type": "execute_result",
          "data": {
            "text/plain": [
              "<__main__.User at 0x7f0f51684c50>"
            ]
          },
          "metadata": {
            "tags": []
          },
          "execution_count": 19
        }
      ]
    },
    {
      "cell_type": "code",
      "metadata": {
        "colab": {
          "base_uri": "https://localhost:8080/"
        },
        "id": "Z1sPdYgLA1rL",
        "outputId": "2403f373-1cf4-4f98-eddc-4c22f729430f"
      },
      "source": [
        "johndoe.username, johndoe.joined_date"
      ],
      "execution_count": 20,
      "outputs": [
        {
          "output_type": "execute_result",
          "data": {
            "text/plain": [
              "('johndoe', '2018-04-20')"
            ]
          },
          "metadata": {
            "tags": []
          },
          "execution_count": 20
        }
      ]
    },
    {
      "cell_type": "code",
      "metadata": {
        "colab": {
          "base_uri": "https://localhost:8080/"
        },
        "id": "5x_6lJRtAhhj",
        "outputId": "cb93b794-0147-4f0b-d065-caa70ea0ed42"
      },
      "source": [
        "mikesmith = create_user_object('mikesmith', '2020-10-31')\n",
        "mikesmith.username, mikesmith.joined_date"
      ],
      "execution_count": 21,
      "outputs": [
        {
          "output_type": "execute_result",
          "data": {
            "text/plain": [
              "('mikesmith', '2020-10-31')"
            ]
          },
          "metadata": {
            "tags": []
          },
          "execution_count": 21
        }
      ]
    },
    {
      "cell_type": "markdown",
      "metadata": {
        "id": "TN7P3td-BLDk"
      },
      "source": [
        "Now that we've looked at _properties_, let's move on to _methods_.\n",
        "\n",
        "**Methods** are _functions_ that are bound to a particular _class_ and are used by _objects_ of that _class_.\n",
        "\n",
        "We define a _method_ on a _class_ like this:\n",
        "```python\n",
        ">>> class MyClass:\n",
        "...     def my_method(self, ...):\n",
        "...         pass\n",
        "```\n",
        "\n",
        "And call it like this:\n",
        "```python\n",
        ">>> my_object = MyClass()\n",
        ">>> my_object.my_method(...)\n",
        "```\n",
        "\n",
        "It is similar to a _function_ definition except for 2 noticeable differences:\n",
        "1. The definition exists within the indentation block of the _class_ definition.\n",
        "    - This means that most of the code relating to the _class_ are bundled up in the _class_ definition.\n",
        "    - It's now clear the _method_ is meant only for _objects_ of that _class_.\n",
        "\n",
        "2. The first argument is always the current _object_ calling the _method_. By convention, the name of that first argument is called `self`.\n",
        "    - We don't have to explicitly pass in the _object_ for its _methods_ to gain access to it."
      ]
    },
    {
      "cell_type": "code",
      "metadata": {
        "id": "z53Zve98Dru0"
      },
      "source": [
        "class User:\n",
        "    # Requirement 2: Add friend\n",
        "    def add_friend(self, new_friend):\n",
        "        username = self.username\n",
        "        friend_username = new_friend.username\n",
        "\n",
        "        self.friends.append(friend_username)\n",
        "        new_friend.friends.append(username)\n",
        "\n",
        "    # Requirement 3: Publish post\n",
        "    def publish_post(self, post):\n",
        "        self.posts.append(post)\n",
        "\n",
        "    # Requirement 4: Like post\n",
        "    def like_post(self, post):\n",
        "        username = self.username\n",
        "        post['likes'].append(username) # append is a method on the `list` object"
      ],
      "execution_count": 22,
      "outputs": []
    },
    {
      "cell_type": "code",
      "metadata": {
        "id": "ixk49Y-XEydg"
      },
      "source": [
        "# Requirement 1: Represent user data\n",
        "def create_user_object(username, birthdate):\n",
        "    user = User()\n",
        "\n",
        "    user.username = username\n",
        "    user.birthdate = birthdate\n",
        "    user.friends = [] # no friends for new user\n",
        "    user.posts = [] # no post for new user\n",
        "\n",
        "    return user"
      ],
      "execution_count": 23,
      "outputs": []
    },
    {
      "cell_type": "code",
      "metadata": {
        "id": "MOngtD8VEydh"
      },
      "source": [
        "johndoe = create_user_object('johndoe', '2015-04-20')\n",
        "mikesmith = create_user_object('mikesmith', '2020-10-31')"
      ],
      "execution_count": 24,
      "outputs": []
    },
    {
      "cell_type": "code",
      "metadata": {
        "colab": {
          "base_uri": "https://localhost:8080/"
        },
        "id": "ht34B0amD6Z3",
        "outputId": "eccead33-1a26-4f39-fc1f-9f2ecbe92cfe"
      },
      "source": [
        "johndoe.add_friend(mikesmith) # instead of add_friend(johndoe, mikesmith)\n",
        "\n",
        "print(johndoe.friends)\n",
        "print(mikesmith.friends)"
      ],
      "execution_count": 25,
      "outputs": [
        {
          "output_type": "stream",
          "text": [
            "['mikesmith']\n",
            "['johndoe']\n"
          ],
          "name": "stdout"
        }
      ]
    },
    {
      "cell_type": "code",
      "metadata": {
        "colab": {
          "base_uri": "https://localhost:8080/"
        },
        "id": "B-Y8xk02D6Z6",
        "outputId": "abd7e4c7-0cc6-4751-d15b-841a31d78e59"
      },
      "source": [
        "post = {\n",
        "    'title': 'Post 1',\n",
        "    'text': 'A new post',\n",
        "    'likes': []\n",
        "}\n",
        "\n",
        "johndoe.publish_post(post) # instead of publish_post(johndoe, post)\n",
        "\n",
        "print(johndoe.posts)"
      ],
      "execution_count": 26,
      "outputs": [
        {
          "output_type": "stream",
          "text": [
            "[{'title': 'Post 1', 'text': 'A new post', 'likes': []}]\n"
          ],
          "name": "stdout"
        }
      ]
    },
    {
      "cell_type": "code",
      "metadata": {
        "colab": {
          "base_uri": "https://localhost:8080/"
        },
        "id": "HDlijwjAD6Z9",
        "outputId": "9ccfdb9e-b2b6-4f8b-87a2-628b63bd7631"
      },
      "source": [
        "mikesmith.like_post(post) # instead of like_post(mikesmith, post)\n",
        "\n",
        "print(post)"
      ],
      "execution_count": 27,
      "outputs": [
        {
          "output_type": "stream",
          "text": [
            "{'title': 'Post 1', 'text': 'A new post', 'likes': ['mikesmith']}\n"
          ],
          "name": "stdout"
        }
      ]
    },
    {
      "cell_type": "markdown",
      "metadata": {
        "id": "tkOSTIQQHHlt"
      },
      "source": [
        "Now that we have moved most of the code into the `User` _class_, it is now easy to see which _methods_ an _object_ can use.  \n",
        "Depending on the text editor or IDE you're using, you might even get auto-complete features.\n",
        "\n",
        "It would be nice if the process for _instantiating_ and _initializing_ a `User` was also bundled together in the _class_ definition.  \n",
        "If only there was a way to automatically _initialize_ the properties of an _object_ when we simply _instantiate_ it via `MyClass()`.\n",
        "\n",
        "Fortunately, _Python_ provides a solution for this. There are a set of special _method_ definitions that _Python_ watches out for in a _class_. If present, these special _methods_ enhance the functionalities of the _class_ and its _objects_.\n",
        "\n",
        "These _methods_ are commonly referred to as [_dunder methods_](https://docs.python.org/3/reference/datamodel.html#special-method-names), due to their naming convention (`def __methodname__(self, ...)`).\n",
        "\n",
        "One of those special methods is the `__init__` method. Whenever we construct an _object_ (i.e: calling `MyClass(...)`), _Python_ automatically calls the `__init__` method in the background after the _object_ is _instantiated_.\n",
        "```python\n",
        ">>> # When we do this 👇\n",
        ">>> my_object = MyClass(...)\n",
        "\n",
        ">>> # Python does this 👇 for us if __init__ is defined\n",
        ">>> my_object = MyClass()\n",
        ">>> my_object.__init__(...)\n",
        "```\n",
        "\n",
        "We can now move the _initialization_ process for `User` _objects_ from `create_user_object` to the `__init__` method."
      ]
    },
    {
      "cell_type": "code",
      "metadata": {
        "id": "tsk7eGI4J_50"
      },
      "source": [
        "class User:\n",
        "    # Requirement 1: Represent user data\n",
        "    def __init__(self, username, joined_date):\n",
        "        # user = User() # we don't need this\n",
        "\n",
        "        self.username = username\n",
        "        self.joined_date = joined_date\n",
        "        self.friends = [] # no friends for new user\n",
        "        self.posts = [] # no post for new user\n",
        "\n",
        "        # return user # we don't need this\n",
        "\n",
        "    # Requirement 2: Add friend\n",
        "    def add_friend(self, new_friend):\n",
        "        username = self.username\n",
        "        friend_username = new_friend.username\n",
        "\n",
        "        self.friends.append(friend_username)\n",
        "        new_friend.friends.append(username)\n",
        "\n",
        "    # Requirement 3: Publish post\n",
        "    def publish_post(self, post):\n",
        "        self.posts.append(post)\n",
        "\n",
        "    # Requirement 4: Like post\n",
        "    def like_post(self, post):\n",
        "        username = self.username\n",
        "        post['likes'].append(username) # Note: .append is a method for `list` objects"
      ],
      "execution_count": 28,
      "outputs": []
    },
    {
      "cell_type": "markdown",
      "metadata": {
        "id": "YFqh9cwmLsro"
      },
      "source": [
        "Now every code related to `User` is defined in the _class_ definition.  \n",
        "Both the _properties_ and _methods_ are visible right in one place."
      ]
    },
    {
      "cell_type": "code",
      "metadata": {
        "id": "1PJ4wpw2J_54"
      },
      "source": [
        "johndoe = User('johndoe', '2018-04-20')\n",
        "mikesmith = User('mikesmith', '2020-10-31')"
      ],
      "execution_count": 29,
      "outputs": []
    },
    {
      "cell_type": "code",
      "metadata": {
        "colab": {
          "base_uri": "https://localhost:8080/"
        },
        "id": "1Vwj4qIIKiSc",
        "outputId": "bf04ae1d-9c06-4bad-f89e-714664afdd46"
      },
      "source": [
        "johndoe.username, johndoe.joined_date"
      ],
      "execution_count": 30,
      "outputs": [
        {
          "output_type": "execute_result",
          "data": {
            "text/plain": [
              "('johndoe', '2018-04-20')"
            ]
          },
          "metadata": {
            "tags": []
          },
          "execution_count": 30
        }
      ]
    },
    {
      "cell_type": "code",
      "metadata": {
        "colab": {
          "base_uri": "https://localhost:8080/"
        },
        "id": "Bjdgjq-uJ_55",
        "outputId": "debd588e-43f9-4ebd-a766-ba3f4e3526b9"
      },
      "source": [
        "johndoe.add_friend(mikesmith)\n",
        "\n",
        "print(johndoe.friends) # ['mikesmith']\n",
        "print(mikesmith.friends) # ['johndoe]"
      ],
      "execution_count": 31,
      "outputs": [
        {
          "output_type": "stream",
          "text": [
            "['mikesmith']\n",
            "['johndoe']\n"
          ],
          "name": "stdout"
        }
      ]
    },
    {
      "cell_type": "code",
      "metadata": {
        "colab": {
          "base_uri": "https://localhost:8080/"
        },
        "id": "8PITcApVJ_59",
        "outputId": "bab4eb39-6506-4ed5-b5d1-438ea246b298"
      },
      "source": [
        "post = {\n",
        "    'title': 'Post 1',\n",
        "    'text': 'A new post',\n",
        "    'likes': []\n",
        "}\n",
        "\n",
        "johndoe.publish_post(post)\n",
        "\n",
        "print(johndoe.posts)"
      ],
      "execution_count": 32,
      "outputs": [
        {
          "output_type": "stream",
          "text": [
            "[{'title': 'Post 1', 'text': 'A new post', 'likes': []}]\n"
          ],
          "name": "stdout"
        }
      ]
    },
    {
      "cell_type": "code",
      "metadata": {
        "colab": {
          "base_uri": "https://localhost:8080/"
        },
        "id": "ufGlSbF7J_5_",
        "outputId": "b11ed387-5360-4655-b9b0-73c7d4f30d7c"
      },
      "source": [
        "mikesmith.like_post(post)\n",
        "\n",
        "print(post)"
      ],
      "execution_count": 33,
      "outputs": [
        {
          "output_type": "stream",
          "text": [
            "{'title': 'Post 1', 'text': 'A new post', 'likes': ['mikesmith']}\n"
          ],
          "name": "stdout"
        }
      ]
    },
    {
      "cell_type": "markdown",
      "metadata": {
        "id": "_WzRBC7iNgB1"
      },
      "source": [
        "### Conclusion"
      ]
    },
    {
      "cell_type": "markdown",
      "metadata": {
        "id": "X3qHYONVNg3K"
      },
      "source": [
        "#### Naming Convention\n",
        "The built-in _classes_ in _Python_ are typically in all lower-case because they are used frequently and recognized by most _Python_ developers as _classes_. However, when defining custom _classes_, it is advised to use `PascalCase` casing for the _class_ names to ensure that readers of the code recognize them as _classes_ when used."
      ]
    },
    {
      "cell_type": "markdown",
      "metadata": {
        "id": "i8kvCD3gNmva"
      },
      "source": [
        "#### Documentation\n",
        "When defining _classes_ it is advised to provide documentation for the purpose of the _class_ right below the name of the class using a multi-line string, and to provide documentation for the _class_ `methods` in the same manner.\n",
        "\n",
        "```python \n",
        ">>> class MyClass:\n",
        "...     \"\"\"Description and purpose of the class goes here.\n",
        "...     Also describe the properties that belong to this class.\n",
        "...     The rest of the class definition goes below\n",
        "...     \"\"\"\n",
        "...     \n",
        "...     def my_method(self, x, y):\n",
        "...         \"\"\"Description about my_method preferably talking about\n",
        "...         the purpose of the method and its arguments\n",
        "...         \"\"\"\n",
        "...         pass\n",
        "```"
      ]
    },
    {
      "cell_type": "markdown",
      "metadata": {
        "id": "CVjJFLgC8dh8"
      },
      "source": [
        "Quick Tip: if you call the built-in `help` _function_ with a _class_ or _object_, it outputs the documentation for that class.\n",
        "\n",
        "```python\n",
        ">>> help(MyClass)\n",
        "Help on class MyClass in module __main__:\n",
        "\n",
        "class MyClass(builtins.object)\n",
        " |  Description and purpose of the class goes here.\n",
        " |  Also describe the properties that belong to this class.\n",
        " |  The rest of the class definition goes below\n",
        " |  \n",
        " |  Methods defined here:\n",
        " |  \n",
        " |  my_method(self, x, y)\n",
        " |      Description about my_method preferably talking about\n",
        " |      the purpose of the method and its arguments\n",
        " |  \n",
        " |  ----------------------------------------------------------------------\n",
        " |  Data descriptors defined here:\n",
        " |  \n",
        " |  __dict__\n",
        " |      dictionary for instance variables (if defined)\n",
        " |  \n",
        " |  __weakref__\n",
        " |      list of weak references to the object (if defined)\n",
        "\n",
        "```"
      ]
    },
    {
      "cell_type": "markdown",
      "metadata": {
        "id": "rt4ByaL-MI96"
      },
      "source": [
        "Hopefully between the _Basic Solution_ and _OOP Solution_, you now recognize how powerful the **Object-Oriented Programming** paradigm is.\n",
        "\n",
        "This style of programming will definitely come up more frequently as you advance in your programming journey.\n",
        "\n",
        "As an additional exercise, implement a `Post` _object_ using what we've covered so far on the _OOP_ paradigm."
      ]
    }
  ]
}